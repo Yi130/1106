{
 "cells": [
  {
   "cell_type": "code",
   "execution_count": 1,
   "id": "c4cf4650",
   "metadata": {},
   "outputs": [],
   "source": [
    "import os,sys\n",
    "#sys.path.append('../core/')\n",
    "\n",
    "import numpy as np\n",
    "import pandas as pd\n",
    "import matplotlib.pyplot as plt\n",
    "%matplotlib inline\n",
    "from importlib import reload\n",
    "\n",
    "#import arch\n",
    "#import arch.unitroot as unitroot\n",
    "\n",
    "#from Leybourne import Leybourne\n",
    "#import talib as tb\n",
    "\n",
    "#import sklearn\n",
    "#from sklearn.linear_model import LinearRegression\n",
    "\n",
    "#import statsmodels.tsa.stattools as ts\n",
    "\n",
    "#from scipy.stats import kstest\n",
    "#import shelve\n",
    "\n",
    "#from collections import Counter\n",
    "\n",
    "#import colorednoise as cn\n",
    "\n",
    "#import itertools\n",
    "\n",
    "#import xlrd\n",
    "\n",
    "#from datetime import date,datetime\n",
    "\n",
    "#from xlrd import open_workbook,xldate_as_tuple\n",
    "#import xlwt\n",
    "\n",
    "import numpy as np\n",
    "#from collections import  Counter"
   ]
  },
  {
   "cell_type": "code",
   "execution_count": 2,
   "id": "fb24785f",
   "metadata": {},
   "outputs": [],
   "source": [
    "#step 1\n",
    "wdir =os.getcwd()+'/raw_data.tsv'\n",
    "data = pd.read_csv(wdir,sep=\"\\t\", header=0)"
   ]
  },
  {
   "cell_type": "code",
   "execution_count": 3,
   "id": "7ef3040f",
   "metadata": {},
   "outputs": [
    {
     "name": "stdout",
     "output_type": "stream",
     "text": [
      "2018年のトランザクション数が168795\n",
      "2019年のトランザクション数が324883\n",
      "2020年のトランザクション数が479321\n"
     ]
    }
   ],
   "source": [
    "year = 2018\n",
    "locals()['tran_num'+str(year)] = 0\n",
    "for i in range(len(data.date)):\n",
    "    if data.date[i][:4]==str(year):\n",
    "        locals()['tran_num'+str(year)]=locals()['tran_num'+str(year)]+1\n",
    "    else:\n",
    "        print(str(year)+'年のトランザクション数が'+str(locals()['tran_num'+str(year)]))\n",
    "        year=year+1\n",
    "        locals()['tran_num'+str(year)] = 1\n",
    "print(str(year)+'年のトランザクション数が'+str(locals()['tran_num'+str(year)]))"
   ]
  },
  {
   "cell_type": "code",
   "execution_count": null,
   "id": "67f1c103",
   "metadata": {},
   "outputs": [],
   "source": [
    "#step 2"
   ]
  },
  {
   "cell_type": "code",
   "execution_count": 4,
   "id": "ef53bb56",
   "metadata": {},
   "outputs": [],
   "source": [
    "del_null = list(np.where(data.sales.isnull().values==True)[0])\n",
    "del_mil = list(np.where(data.sales.values>1000000)[0])\n",
    "del_row = del_null+del_mil\n",
    "data = data.drop(index = del_row)\n",
    "data.index=range(data.shape[0])"
   ]
  },
  {
   "cell_type": "code",
   "execution_count": null,
   "id": "7ac693b8",
   "metadata": {},
   "outputs": [],
   "source": [
    "#step 3\n",
    "'''\n",
    "brand_name\tbrand_name_en\n",
    "ユニクロ\tＵＮＩＱＬＯ\n",
    "ジーユー\tＧＵ\n",
    "プラステ\tＰＬＳＴ\n",
    "ミーナ\tｍｉｎａ\n",
    "セオリー\tＴｈｅｏｒｙ\n",
    "ユニクロ　ジーユー　オンライン\tＵＮＩＱＬＯ　ＧＵ　ＯＮＬＩＮＥ\n",
    "'''"
   ]
  },
  {
   "cell_type": "code",
   "execution_count": 5,
   "id": "8eb7c14d",
   "metadata": {},
   "outputs": [],
   "source": [
    "brand_nm = ['ユニクロ',  'ジーユー', 'プラステ', 'ミーナ', 'セオリー', 'ユニクロ　ジーユー　オンライン']\n",
    "brand_en = ['ＵＮＩＱＬＯ', 'ＧＵ', 'ＰＬＳＴ', 'ｍｉｎａ', 'Ｔｈｅｏｒｙ', 'ＵＮＩＱＬＯ　ＧＵ　ＯＮＬＩＮＥ']"
   ]
  },
  {
   "cell_type": "code",
   "execution_count": 6,
   "id": "8fe4ecdc",
   "metadata": {},
   "outputs": [],
   "source": [
    "store = []\n",
    "brand = []\n",
    "for nm in range(len(brand_nm)):\n",
    "    b_nm1 = list(np.where(data.store_name.str.contains(brand_nm[nm]).values==True)[0])\n",
    "    b_nm2 = list(np.where(data.store_name.str.contains(brand_en[nm]).values==True)[0])\n",
    "    b_nm = b_nm1+b_nm2\n",
    "    b_store=list(set(list(data.store_name[b_nm].values)))\n",
    "    b_brand=[brand_nm[nm]]*len(b_store)\n",
    "    store = store+b_store\n",
    "    brand = brand+b_brand \n",
    "\n",
    "brand_store_map = pd.DataFrame({'brand_name':brand,'store_name':store })"
   ]
  },
  {
   "cell_type": "code",
   "execution_count": 126,
   "id": "b84576ba",
   "metadata": {},
   "outputs": [],
   "source": [
    "os.makedirs(os.getcwd()+'/output')\n",
    "brand_store_map.to_csv(os.getcwd()+'/output/brand_store_map.tsv', sep=\"\\t\")"
   ]
  },
  {
   "cell_type": "code",
   "execution_count": 128,
   "id": "ad536f9c",
   "metadata": {},
   "outputs": [],
   "source": [
    "#step4\n",
    "Column Name\tType\tNotes\n",
    "quarter\tdate/str\tyyyy-mm (四半期の最後の月）\n",
    "sales\tint\t\n",
    "number_of_transactions\tint\t\n",
    "number_of_users\tint\t"
   ]
  },
  {
   "cell_type": "code",
   "execution_count": 7,
   "id": "3102fed7",
   "metadata": {},
   "outputs": [],
   "source": [
    "data.date = data.date.str.replace(r'-','')"
   ]
  },
  {
   "cell_type": "code",
   "execution_count": 8,
   "id": "c3169592",
   "metadata": {},
   "outputs": [],
   "source": [
    "data1 = data.set_index(['date'])"
   ]
  },
  {
   "cell_type": "code",
   "execution_count": 26,
   "id": "eba59493",
   "metadata": {},
   "outputs": [],
   "source": [
    "start = ['0101','0401','0701','1001']\n",
    "end = ['0330','0630','0930','1230']\n",
    "quat = []\n",
    "user_num =  []\n",
    "tran_num = [] \n",
    "sales_total = []\n",
    "for year in [2018,2019,2020]:\n",
    "    for qt in range(4):\n",
    "        s_date = str(year)+start[qt]\n",
    "        e_date = str(year)+end[qt]\n",
    "        data_sub = data1.loc[s_date:e_date]\n",
    "        user_num.append(len(list(set(list(data_sub.user_id.values)))))\n",
    "        tran_num.append(len(data_sub.sales))\n",
    "        sales_total.append(int(data_sub.sales.sum()))\n",
    "        quat.append(str(year)+'-'+end[qt][:2])\n",
    "        \n"
   ]
  },
  {
   "cell_type": "code",
   "execution_count": 30,
   "id": "32359287",
   "metadata": {},
   "outputs": [],
   "source": [
    "aggregation = pd.DataFrame({'quarter':quat,'sales':sales_total,'number_of_transactions':tran_num , 'number_of_users':user_num })\n",
    "aggregation = aggregation.set_index(['quarter'])\n",
    "aggregation = aggregation.iloc[1:,:]"
   ]
  },
  {
   "cell_type": "code",
   "execution_count": 33,
   "id": "06766a38",
   "metadata": {},
   "outputs": [],
   "source": [
    "aggregation.to_csv(os.getcwd()+'/output/aggregation.csv')"
   ]
  },
  {
   "cell_type": "code",
   "execution_count": null,
   "id": "1abac2a7",
   "metadata": {},
   "outputs": [],
   "source": [
    "#step5"
   ]
  },
  {
   "cell_type": "code",
   "execution_count": 35,
   "id": "b1576ff6",
   "metadata": {},
   "outputs": [],
   "source": [
    "disclosure = pd.read_csv('https://cdn.kibe.la/media/shared/12170/747817e9-455e-49eb-acb3-73a6c5abeec7/30026/attachment.csv')"
   ]
  },
  {
   "cell_type": "code",
   "execution_count": 41,
   "id": "45ff1df9",
   "metadata": {},
   "outputs": [],
   "source": [
    "loc = list(np.where(disclosure.ticker_code.values==9983)[0])\n",
    "disclosure1 = disclosure.loc[loc,:]"
   ]
  },
  {
   "cell_type": "code",
   "execution_count": 42,
   "id": "ec970987",
   "metadata": {},
   "outputs": [
    {
     "data": {
      "text/html": [
       "<div>\n",
       "<style scoped>\n",
       "    .dataframe tbody tr th:only-of-type {\n",
       "        vertical-align: middle;\n",
       "    }\n",
       "\n",
       "    .dataframe tbody tr th {\n",
       "        vertical-align: top;\n",
       "    }\n",
       "\n",
       "    .dataframe thead th {\n",
       "        text-align: right;\n",
       "    }\n",
       "</style>\n",
       "<table border=\"1\" class=\"dataframe\">\n",
       "  <thead>\n",
       "    <tr style=\"text-align: right;\">\n",
       "      <th></th>\n",
       "      <th>disclosure_id</th>\n",
       "      <th>ticker_code</th>\n",
       "      <th>quarter</th>\n",
       "      <th>sales</th>\n",
       "    </tr>\n",
       "  </thead>\n",
       "  <tbody>\n",
       "    <tr>\n",
       "      <th>360</th>\n",
       "      <td>361</td>\n",
       "      <td>9983</td>\n",
       "      <td>2016-03</td>\n",
       "      <td>600757400000</td>\n",
       "    </tr>\n",
       "    <tr>\n",
       "      <th>361</th>\n",
       "      <td>362</td>\n",
       "      <td>9983</td>\n",
       "      <td>2016-06</td>\n",
       "      <td>605084500000</td>\n",
       "    </tr>\n",
       "    <tr>\n",
       "      <th>362</th>\n",
       "      <td>363</td>\n",
       "      <td>9983</td>\n",
       "      <td>2016-09</td>\n",
       "      <td>602923000000</td>\n",
       "    </tr>\n",
       "    <tr>\n",
       "      <th>363</th>\n",
       "      <td>364</td>\n",
       "      <td>9983</td>\n",
       "      <td>2016-12</td>\n",
       "      <td>701499200000</td>\n",
       "    </tr>\n",
       "    <tr>\n",
       "      <th>364</th>\n",
       "      <td>365</td>\n",
       "      <td>9983</td>\n",
       "      <td>2017-03</td>\n",
       "      <td>603654900000</td>\n",
       "    </tr>\n",
       "    <tr>\n",
       "      <th>365</th>\n",
       "      <td>366</td>\n",
       "      <td>9983</td>\n",
       "      <td>2017-06</td>\n",
       "      <td>687465400000</td>\n",
       "    </tr>\n",
       "    <tr>\n",
       "      <th>366</th>\n",
       "      <td>367</td>\n",
       "      <td>9983</td>\n",
       "      <td>2017-09</td>\n",
       "      <td>705920500000</td>\n",
       "    </tr>\n",
       "    <tr>\n",
       "      <th>367</th>\n",
       "      <td>368</td>\n",
       "      <td>9983</td>\n",
       "      <td>2017-12</td>\n",
       "      <td>807239500000</td>\n",
       "    </tr>\n",
       "    <tr>\n",
       "      <th>368</th>\n",
       "      <td>369</td>\n",
       "      <td>9983</td>\n",
       "      <td>2018-03</td>\n",
       "      <td>771635600000</td>\n",
       "    </tr>\n",
       "    <tr>\n",
       "      <th>369</th>\n",
       "      <td>370</td>\n",
       "      <td>9983</td>\n",
       "      <td>2018-06</td>\n",
       "      <td>925749900000</td>\n",
       "    </tr>\n",
       "    <tr>\n",
       "      <th>370</th>\n",
       "      <td>371</td>\n",
       "      <td>9983</td>\n",
       "      <td>2018-09</td>\n",
       "      <td>807401300000</td>\n",
       "    </tr>\n",
       "    <tr>\n",
       "      <th>371</th>\n",
       "      <td>372</td>\n",
       "      <td>9983</td>\n",
       "      <td>2018-12</td>\n",
       "      <td>993399800000</td>\n",
       "    </tr>\n",
       "    <tr>\n",
       "      <th>372</th>\n",
       "      <td>373</td>\n",
       "      <td>9983</td>\n",
       "      <td>2019-03</td>\n",
       "      <td>1029590100000</td>\n",
       "    </tr>\n",
       "    <tr>\n",
       "      <th>373</th>\n",
       "      <td>374</td>\n",
       "      <td>9983</td>\n",
       "      <td>2019-06</td>\n",
       "      <td>1376359000000</td>\n",
       "    </tr>\n",
       "    <tr>\n",
       "      <th>374</th>\n",
       "      <td>375</td>\n",
       "      <td>9983</td>\n",
       "      <td>2019-09</td>\n",
       "      <td>1465923800000</td>\n",
       "    </tr>\n",
       "    <tr>\n",
       "      <th>375</th>\n",
       "      <td>376</td>\n",
       "      <td>9983</td>\n",
       "      <td>2019-12</td>\n",
       "      <td>1213914700000</td>\n",
       "    </tr>\n",
       "    <tr>\n",
       "      <th>376</th>\n",
       "      <td>377</td>\n",
       "      <td>9983</td>\n",
       "      <td>2020-03</td>\n",
       "      <td>1873590000000</td>\n",
       "    </tr>\n",
       "    <tr>\n",
       "      <th>377</th>\n",
       "      <td>378</td>\n",
       "      <td>9983</td>\n",
       "      <td>2020-06</td>\n",
       "      <td>1781566000000</td>\n",
       "    </tr>\n",
       "    <tr>\n",
       "      <th>378</th>\n",
       "      <td>379</td>\n",
       "      <td>9983</td>\n",
       "      <td>2020-09</td>\n",
       "      <td>1928135000000</td>\n",
       "    </tr>\n",
       "    <tr>\n",
       "      <th>379</th>\n",
       "      <td>380</td>\n",
       "      <td>9983</td>\n",
       "      <td>2020-12</td>\n",
       "      <td>2079803000000</td>\n",
       "    </tr>\n",
       "  </tbody>\n",
       "</table>\n",
       "</div>"
      ],
      "text/plain": [
       "     disclosure_id  ticker_code  quarter          sales\n",
       "360            361         9983  2016-03   600757400000\n",
       "361            362         9983  2016-06   605084500000\n",
       "362            363         9983  2016-09   602923000000\n",
       "363            364         9983  2016-12   701499200000\n",
       "364            365         9983  2017-03   603654900000\n",
       "365            366         9983  2017-06   687465400000\n",
       "366            367         9983  2017-09   705920500000\n",
       "367            368         9983  2017-12   807239500000\n",
       "368            369         9983  2018-03   771635600000\n",
       "369            370         9983  2018-06   925749900000\n",
       "370            371         9983  2018-09   807401300000\n",
       "371            372         9983  2018-12   993399800000\n",
       "372            373         9983  2019-03  1029590100000\n",
       "373            374         9983  2019-06  1376359000000\n",
       "374            375         9983  2019-09  1465923800000\n",
       "375            376         9983  2019-12  1213914700000\n",
       "376            377         9983  2020-03  1873590000000\n",
       "377            378         9983  2020-06  1781566000000\n",
       "378            379         9983  2020-09  1928135000000\n",
       "379            380         9983  2020-12  2079803000000"
      ]
     },
     "execution_count": 42,
     "metadata": {},
     "output_type": "execute_result"
    }
   ],
   "source": [
    "disclosure1  "
   ]
  },
  {
   "cell_type": "code",
   "execution_count": null,
   "id": "508f484d",
   "metadata": {},
   "outputs": [],
   "source": []
  },
  {
   "cell_type": "code",
   "execution_count": null,
   "id": "ab1656cc",
   "metadata": {},
   "outputs": [],
   "source": []
  },
  {
   "cell_type": "code",
   "execution_count": null,
   "id": "61a6c4df",
   "metadata": {},
   "outputs": [],
   "source": []
  }
 ],
 "metadata": {
  "kernelspec": {
   "display_name": "Python 3 (ipykernel)",
   "language": "python",
   "name": "python3"
  },
  "language_info": {
   "codemirror_mode": {
    "name": "ipython",
    "version": 3
   },
   "file_extension": ".py",
   "mimetype": "text/x-python",
   "name": "python",
   "nbconvert_exporter": "python",
   "pygments_lexer": "ipython3",
   "version": "3.11.5"
  }
 },
 "nbformat": 4,
 "nbformat_minor": 5
}
